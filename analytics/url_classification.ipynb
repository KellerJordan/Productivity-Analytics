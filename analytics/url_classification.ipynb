{
 "cells": [
  {
   "cell_type": "code",
   "execution_count": 84,
   "metadata": {},
   "outputs": [],
   "source": [
    "import pandas as pd\n",
    "\n",
    "urls_frame = pd.read_csv('datasets/data.csv')\n",
    "num_examples = len(urls_frame)\n",
    "chars = {}\n",
    "hi = 0\n",
    "for url in urls_frame['url']:\n",
    "    for c in url:\n",
    "        if c not in chars:\n",
    "            chars[c] = 0\n",
    "        chars[c] += 1"
   ]
  },
  {
   "cell_type": "code",
   "execution_count": 81,
   "metadata": {},
   "outputs": [
    {
     "name": "stdout",
     "output_type": "stream",
     "text": [
      "1\n",
      "99\n"
     ]
    }
   ],
   "source": [
    "# we will use 1-hot vectors for the top 100 chars\n",
    "char_f = sorted([(c, chars[c]) for c in chars], key=lambda v: -v[1])\n",
    "char_count = 100\n",
    "indices = {}\n",
    "for i in range(char_count-1):\n",
    "    indices[char_f[i][0]] = i\n",
    "def char2index(c):\n",
    "    if c in indices:\n",
    "        return indices[c]\n",
    "    else:\n",
    "        return 99\n",
    "\n",
    "print(char2index('o'))\n",
    "print(char2index('¢'))"
   ]
  },
  {
   "cell_type": "code",
   "execution_count": 82,
   "metadata": {
    "collapsed": true
   },
   "outputs": [],
   "source": [
    "import torch\n",
    "import torch.nn as nn\n",
    "import torch.optim as optim\n",
    "from torch.autograd import Variable\n",
    "import torch.nn.functional as F\n",
    "from torch.utils.data import Dataset, DataLoader\n",
    "\n",
    "use_cuda = torch.cuda.is_available()\n",
    "\n",
    "\n",
    "num_train = int(.9 * num_samples)\n",
    "num_val = int(.1 * num_samples)"
   ]
  },
  {
   "cell_type": "code",
   "execution_count": 23,
   "metadata": {
    "collapsed": true
   },
   "outputs": [],
   "source": [
    "class ChunkSampler(sampler.Sampler):\n",
    "    def __init__(self, num_samples, start=0):\n",
    "        self.num_samples = num_samples\n",
    "        self.start = start\n",
    "    \n",
    "    def __iter__(self):\n",
    "        return iter(range(self.start, self.start+self.num_samples))\n",
    "    \n",
    "    def __len__(self):\n",
    "        return self.num_samples\n",
    "\n",
    "\n",
    "class UrlDataset(Dataset):\n",
    "    \n",
    "    def __init__(self, csv_file, start, end):\n",
    "        self.urls_frame = pd.read_csv(csv_file)\n",
    "        self.batch_size = 16\n",
    "    \n",
    "    def __len__(self):\n",
    "        return len(self.urls_frame)\n",
    "    \n",
    "    def __getitem__(self, idx):\n",
    "        return self.urls_frame[idx]\n",
    "\n",
    "batch_size = 16\n",
    "loader_train = DataLoader(UrlDataset('datasets/data.csv'), sampler=ChunkSampler())"
   ]
  },
  {
   "cell_type": "code",
   "execution_count": null,
   "metadata": {
    "collapsed": true
   },
   "outputs": [],
   "source": [
    "# takes input urls, returns Pr{malicious}\n",
    "\n",
    "class CharRNN(nn.Module):\n",
    "    \n",
    "    def __init__(self, hidden_size):\n",
    "        self.layer1 = \n",
    "    \n",
    "    def forward(self, input):\n",
    "        \n",
    "    "
   ]
  },
  {
   "cell_type": "code",
   "execution_count": null,
   "metadata": {
    "collapsed": true
   },
   "outputs": [],
   "source": [
    "def check_accuracy(model, loader):\n",
    "    num_correct = 0\n",
    "    num_samples = 0\n",
    "    model.eval()\n",
    "    for X, y in loader:\n",
    "        X_var = Variable(X, volatile=True)\n",
    "\n",
    "        scores = model(X_var)\n",
    "        preds = scores.data.cpu() > 0.5\n",
    "\n",
    "        num_correct += (preds == y).sum()\n",
    "        num_samples += preds.size(0)\n",
    "\n",
    "    acc = float(num_correct) / num_samples\n",
    "    print('Got %d / %d correct (%.2f)' % (num_correct, num_samples, 100 * acc))\n",
    "    \n",
    "\n",
    "def train(model, loader_train, criterion, optimizer):\n",
    "    model.train()\n",
    "    for t, (X, y) in enumerate(loader_train):\n",
    "        X_var = Variable(X)\n",
    "        y_var = Variable(y).long()\n",
    "\n",
    "        scores = model(X_var)\n",
    "\n",
    "        loss = criterion(scores, y_var)\n",
    "        if (t+1) % args.print_every == 0:\n",
    "            print('t = %d, loss = %.4f' % (t+1, loss.data[0]))\n",
    "\n",
    "        optimizer.zero_grad()\n",
    "        loss.backward()\n",
    "        optimizer.step()"
   ]
  },
  {
   "cell_type": "code",
   "execution_count": null,
   "metadata": {
    "collapsed": true
   },
   "outputs": [],
   "source": [
    "model = CharConv1d(5)\n",
    "\n",
    "criterion = nn.CrossEntropyLoss()\n",
    "optimizer = optim.Adam(model.parameters())\n",
    "num_epochs = 5\n",
    "for epoch in range(num_epochs):\n",
    "    check_accuracy(model, loader_val)\n",
    "    print('Starting epoch %d / %d' % (epoch+1, num_epochs))\n",
    "    train(model, loader_train, criterion, optimizer)"
   ]
  }
 ],
 "metadata": {
  "kernelspec": {
   "display_name": "Python 3",
   "language": "python",
   "name": "python3"
  },
  "language_info": {
   "codemirror_mode": {
    "name": "ipython",
    "version": 3
   },
   "file_extension": ".py",
   "mimetype": "text/x-python",
   "name": "python",
   "nbconvert_exporter": "python",
   "pygments_lexer": "ipython3",
   "version": "3.6.2"
  }
 },
 "nbformat": 4,
 "nbformat_minor": 2
}
