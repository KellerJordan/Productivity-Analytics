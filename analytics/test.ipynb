{
 "cells": [
  {
   "cell_type": "code",
   "execution_count": 1,
   "metadata": {},
   "outputs": [],
   "source": [
    "import pickle\n",
    "import torch\n",
    "import numpy as np\n",
    "from torch.autograd import Variable\n",
    "import pandas as pd\n",
    "\n",
    "from data_utils import *\n",
    "\n",
    "with open('datasets/indices.pkl', 'rb') as f:\n",
    "    indices = pickle.load(f)\n",
    "\n",
    "with open('datasets/data.pkl', 'rb') as f:\n",
    "    url_arr, lab_arr = pickle.load(f)\n",
    "\n",
    "model = torch.load('models/char_rnn.pk')\n",
    "\n",
    "with open('datasets/df.pkl', 'rb') as f:\n",
    "    df1 = pickle.load(f)\n",
    "\n",
    "df2 = pd.read_csv('datasets/data.csv').iloc[:151286]\n",
    "df2 = df2.reindex(np.random.permutation(df2.index))"
   ]
  },
  {
   "cell_type": "code",
   "execution_count": 2,
   "metadata": {},
   "outputs": [],
   "source": [
    "def get_np(df):\n",
    "    num_samples = len(df)\n",
    "    num_chars = 50\n",
    "    \n",
    "    test_urls = [url[:100] for url in df['url']]\n",
    "    test_labels = [label for label in df['label']]\n",
    "    labels_array = np.array([int(label == 'bad') for label in test_labels])\n",
    "\n",
    "    url_array = np.zeros((100, num_samples, num_chars+1))\n",
    "    for i, url in enumerate(test_urls):\n",
    "        url_array[:, i, :] = url2hot(url, indices)\n",
    "        \n",
    "    return url_array, labels_array"
   ]
  },
  {
   "cell_type": "code",
   "execution_count": 6,
   "metadata": {
    "scrolled": true
   },
   "outputs": [
    {
     "name": "stdout",
     "output_type": "stream",
     "text": [
      "['kbkamsv.livejournal.com/36943.html', 'echolink.org/', 'fulltimehustler.blogspot.com/2008/10/skatterman-and-snug-brim-worth-million.html', 'internships.about.com/od/media/a/Disney-Abc-Television-Group-Paid-Internships-For-College-Students.h', 'movies.nytimes.com/movie/review?res=9A06E0DE123EF935A35757C0A9679C8B63', 'delhidelivered.com/wp-admin/dab/file/files/db/file.dropbox/', 'pressrepublican.com/0300_sports/x433571411/Montrealer-leads-Masters-North', 'muse.jhu.edu/login?uri=/journals/theatre_journal/v054/54.1trotter.html', 'openmoko.infoblitz.net/index.php?option=com_content&view=article&id=64&Itemid=69&lang=en', '44thandgoal.blogspot.com/', 'raincoaster.com/2006/09/14/kimveer-gills-blog/', 'sintaxedigital.com.br/dosecerta/wp-admin/js/Assurance/Ameli/PortailAS/appmanager/PortailAS/assure_so', 'mroutfitters.com/', 'nsalptexas.blogspot.com/', 'kfc.i.illuminationes.com/snitch?default_keyword=&referrer=&se_referrer=&source=', 'verdute.com.br/~coserfoto/wp-includes/js/jcrop/N-Red.html', 'nondestructivetesting.in/nail/spacebox', 'taggartkids.com/js/lib/web-connect/ca/mobile/c947080aaeb0f2ce7acf773000b6ff8e/', 'viam-advisors.com/piccolo/index%20%282%29.html', 'nyrangerslegends.blogspot.com/2006/07/rod-gilbert.html', 'bleacherreport.com/articles/819507-2011-oklahoma-football-schedule-breakdown-will-anyone-upset-the-s', 'gixmi.com/KEE/Arch/Archive/index.php', 'archiver.rootsweb.ancestry.com/th/read/METIS/2006-02/1140115345', 'seattletimes.nwsource.com/html/seahawksblog/', 'en.wikipedia.org/wiki/John_Burroughs_Middle_School_(Los_Angeles)', 'kansascity.about.com/b/2010/02/19/garment-district-to-open-in-power-light.htm', 'records.ancestry.com/Philias_Lafond_Sheldon_Illinois_USA_records.ashx?pid=14219433&gss=seo', 'celebritywonder.ugo.com/picture/Raoul_Bova/RaoulBovapr_Granitz_5795316.html', 'hearne-research.blogspot.com/2006/10/mysterious-walter-s-hearne-and-father.html', 'katiebellmoore.com/', 'bitsnoop.com/mahaul-theek-hai-q15170431.html', 'gatanamoda.com.br/skin/adminhtml/default/default/default/good.html', 'websabio.net/ratul/wordpress/update/?4', 'dl.downf468.com/n/3.0.26.2/4924888/100-villancicos.exe', 'belgravesurvivalday.org/?p=1', 'duckduckgo.com/1/c/McGill_University', 'djcoregon.com/news/tag/aecom-ellerbe-becket/', 'companydatabase.org/c/office-warehouses/services-office/office-storage/retail-warehouse/', 'hicksmath.com/wp-admin/includes/grhhr/', 'lacolors.com.ro/image/data/lacolors/clicktoview', 'blogs.denverpost.com/sports/category/colorado-rapids/', 'iranian-supermarkets.com/', 'pressreleases.kcstar.com/?q=node/69643', 'en.wikipedia.org/wiki/Glen_Murray_(politician)', 'en.wikipedia.org/wiki/Pontiac_GTO', 'killasoundz.blogspot.com/', 'teamnesra.net/drupal/?q=taxonomy/term/4', 'staffspolicerecruitment.com/', 'judgepedia.org/index.php/Herman_Weber', 'mag.damnserver.com/topless/Claudine-Auger.html', 'docmitto.computantest.com/old-copy/data/b8f0d173493c2bb88ddc7caa3f0567bb/', 'celebritywonder.ugo.com/movie/1999_Plunkett__Macleane.html', 'sharingcentre.net/forum/33123-coeur-de-pirate-coeur-de-pirate/', 'enr.elections.ca/ElectoralDistricts_e.aspx?ed=1231', 'docsouth.unc.edu/church/wright/wright.html', 'aandgtrading.com/category_images/k2/bookmark/ii.php', 'primitivefolks.com/pf-musicians.html', 'margaretreid.point2agent.com/', 'en.wikipedia.org/wiki/Roy_Williams_(artist)', 'aoengineering.com/file/verify/', 'cryofaciallv.com/nasc.php', 'surf.surftech.com/featured-boards/mctavish/', 'michellemalkin.com/2011/07/08/warren-buffett/', 'hiphop.hypeeater.com/download-kanye-west-my-beautiful-dark-twisted-fantasy-album-leak/', 'nashvillecitypaper.com/content/lifestyles/john-jeremiah-sullivan-new-tom-wolfe', 'omaris-apartment.dumbmachine.net/A-Play-Aboutfannie-Lou-Hamer/', 'people.famouswhy.com/tom_wilkinson/', 'longbranchpettingzoo.com/', 'phone-numbers.matan.ca/Citibank-Mastercard-Canada-Enrich-Customer-Service-Experience', 'harding1957.com/', 'people.forbes.com/profile/richard-c-notebaert/6355', 'anangelneverdiesdanielle.blogspot.com/', 'pavisnet.com/fayette/', 'acerailgun.wordpress.com/2011/10/14/un-go-episode-1/', 'rustbelt.tripod.com/gen.html', 'informe.com/chom.com/', 'en.wikipedia.org/wiki/J._Don_Ferguson', 'shopproducts.howstuffworks.com/Diskeeper-Corporation-Diskeeper-10-Administrator-Edition-Full-Version', 'moragaplaza.com/', 'en.wikipedia.org/wiki/Danielle_Bounds', 'gordygong.com/wp-admin/maint/e4sy/M4.html?7yuR=;1dc52df9454b46751a861e51e18e8cb71dc52df9454b46751a86', 'righttrackconsultancy.co.in/wp-admin/css/colors/blue/home/', 'movies.msn.com/celebrities/celebrity/peter-m-lenkov/', 'figureskating.teamusa.org/news/2010/08/25/icenetwork-com-releases-initial-world-figure-skater-rankin', 'plscooters.com/scooters', 'tabs.ultimate-guitar.com/c/christina_aguilera/cant_hold_us_down_crd.htm', 'hockeydraft.ca/players/ian-laperriere.aspx', 'jeffreymklein.com/', 'tbi.nitc.ac.in/admin/files/compte-servier-demande-infomation/Canada-Virementde-peypal-compte-bancair', 'itr2010.org/2010/10/24/colleen-camp-cynthia-wood-aurore-clement-apocalypse-now-redux-hd-720p-avi/', 'ca.linkedin.com/in/matthewdlombardi', 'en.wikipedia.org/wiki/Toth', 'gw1.geneanet.org/favrejhas?lang=en;m=P;v=pierre+antoine', 'ieug.ru/news/pograf/', 'bababaseball.org/forums/nations-baseball/open-letter-from-ron-mathis/', 'republican.assembly.ca.gov/member/63/', 'michigansteelheaders.org/', 'en.wikipedia.org/wiki/Jack_Carpenter', 'shshide.com/js/?cgi-bin=B-Portal-Srv-ebafcd72beb7afc128da8df6f36c51556&amp;prod=4', 'en.wikipedia.org/wiki/Dave_Mello']\n"
     ]
    }
   ],
   "source": [
    "url_array1, labels_array1 = get_np(df1.iloc[150000:151000])\n",
    "\n",
    "url_array2 = url_arr[:, 10000:11000, :]\n",
    "labels_array2 = lab_arr[10000:11000]\n",
    "\n",
    "url_array3, labels_array3 = get_np(df2.iloc[:100])\n",
    "print(list([url[:100] for url in df2.iloc[:100]['url']]))"
   ]
  },
  {
   "cell_type": "code",
   "execution_count": 7,
   "metadata": {
    "scrolled": false
   },
   "outputs": [
    {
     "name": "stdout",
     "output_type": "stream",
     "text": [
      "0.935\n",
      "0.93\n",
      "0.91\n"
     ]
    }
   ],
   "source": [
    "print(accuracy(model, (url_array1, labels_array1)))\n",
    "print(accuracy(model, (url_array2, labels_array2)))\n",
    "print(accuracy(model, (url_array3, labels_array3)))"
   ]
  }
 ],
 "metadata": {
  "kernelspec": {
   "display_name": "Python 3",
   "language": "python",
   "name": "python3"
  },
  "language_info": {
   "codemirror_mode": {
    "name": "ipython",
    "version": 3
   },
   "file_extension": ".py",
   "mimetype": "text/x-python",
   "name": "python",
   "nbconvert_exporter": "python",
   "pygments_lexer": "ipython3",
   "version": "3.5.2"
  }
 },
 "nbformat": 4,
 "nbformat_minor": 2
}
